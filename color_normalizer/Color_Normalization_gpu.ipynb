{
 "cells": [
  {
   "cell_type": "code",
   "execution_count": null,
   "id": "98b71050",
   "metadata": {},
   "outputs": [],
   "source": [
    "import os\n",
    "import staintools\n",
    "from PIL import Image\n",
    "import numpy as np\n",
    "import cv2 as cv\n",
    "import torch, torch.nn as nn\n",
    "import torchvision\n",
    "import torchvision.transforms as transforms\n",
    "from skimage import io\n",
    "from torch.utils.data import DataLoader, Dataset\n",
    "import matplotlib.pyplot as plt\n",
    "from pathlib import Path"
   ]
  },
  {
   "cell_type": "markdown",
   "id": "60a8da65",
   "metadata": {},
   "source": [
    "# Params"
   ]
  },
  {
   "cell_type": "code",
   "execution_count": null,
   "id": "91fecbfa",
   "metadata": {},
   "outputs": [],
   "source": [
    "source_path = '../data/VPC/multiscale_patches_Train/'\n",
    "normalized_path = '../data/VPC/Normalized/'\n",
    "reference_img = '../data/Reference.jpg'\n",
    "method = 'vahadane' # or 'macenko'"
   ]
  },
  {
   "cell_type": "markdown",
   "id": "aae9f7be",
   "metadata": {},
   "source": [
    "# Normalizing with staintools"
   ]
  },
  {
   "cell_type": "code",
   "execution_count": null,
   "id": "44d08320",
   "metadata": {},
   "outputs": [],
   "source": [
    "os.environ.pop(\"CUDA_VISIBLE_DEVICES\", None)  \n",
    "print(\"torch:\", torch.__version__)\n",
    "print(\"compiled_with_cuda:\", torch.version.cuda)\n",
    "print(\"cuda.is_available:\", torch.cuda.is_available())\n",
    "print(\"device_count:\", torch.cuda.device_count())\n",
    "\n",
    "device = torch.device(\"cuda\" if torch.cuda.is_available() else \"cpu\")\n",
    "if torch.cuda.is_available():\n",
    "    try:\n",
    "        print(\"Using GPU:\", torch.cuda.get_device_name(0))\n",
    "    except Exception:\n",
    "        print(\"GPU visible but get_device_name failed (continuing).\")\n",
    "else:\n",
    "    print(\"⚠ Running on CPU\")"
   ]
  },
  {
   "cell_type": "code",
   "execution_count": null,
   "id": "02504371",
   "metadata": {},
   "outputs": [],
   "source": [
    "# NumPy compat for old spams\n",
    "np.bool = np.bool_\n",
    "\n",
    "# simple tissue check: treat pixels with high luminosity as background\n",
    "def has_tissue(img, min_frac=0.10, lum_thresh=0.8):\n",
    "    # img uint8 RGB -> [0,1] float\n",
    "    I = img.astype(np.float32) / 255.0\n",
    "    # luminance approximation\n",
    "    lum = 0.299 * I[...,0] + 0.587 * I[...,1] + 0.114 * I[...,2]\n",
    "    tissue_mask = (lum < lum_thresh)  # True = tissue-ish\n",
    "    return tissue_mask.mean() >= min_frac"
   ]
  },
  {
   "cell_type": "code",
   "execution_count": null,
   "id": "2fc633dc",
   "metadata": {},
   "outputs": [],
   "source": [
    "# fit normalizer once\n",
    "target = staintools.read_image(reference_img)\n",
    "normalizer = staintools.StainNormalizer(method=method)\n",
    "normalizer.fit(target)\n",
    "\n",
    "Path(normalized_path).mkdir(parents=True, exist_ok=True)\n",
    "\n",
    "# recurse through your hierarchical folder and preserve structure\n",
    "for root, _, files in os.walk(source_path):\n",
    "    for img_file in files:\n",
    "        if not img_file.lower().endswith(('.png', '.jpg', '.jpeg', '.tif', '.tiff')):\n",
    "            continue\n",
    "\n",
    "        src_path = os.path.join(root, img_file)\n",
    "        rel_path = os.path.relpath(src_path, source_path)\n",
    "        dst_path = os.path.join(normalized_path, rel_path)\n",
    "        os.makedirs(os.path.dirname(dst_path), exist_ok=True)\n",
    "\n",
    "        img = staintools.read_image(src_path)\n",
    "\n",
    "        # skip if no tissue detected\n",
    "        if not has_tissue(img, min_frac=0.10, lum_thresh=0.8):\n",
    "            continue\n",
    "\n",
    "        norm_img = normalizer.transform(img)\n",
    "        io.imsave(dst_path, norm_img)"
   ]
  }
 ],
 "metadata": {
  "language_info": {
   "name": "python"
  }
 },
 "nbformat": 4,
 "nbformat_minor": 5
}

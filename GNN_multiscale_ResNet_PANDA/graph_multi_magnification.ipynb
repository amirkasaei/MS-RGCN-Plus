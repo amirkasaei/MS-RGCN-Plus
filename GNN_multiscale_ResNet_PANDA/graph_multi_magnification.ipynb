{
 "cells": [
  {
   "cell_type": "markdown",
   "id": "868c0521",
   "metadata": {},
   "source": [
    "# Parameters\n",
    "Edge_types mapping: 10_10: 0, 20_20: 1, 40_40: 2, 10_20: 3, 20_40: 3"
   ]
  },
  {
   "cell_type": "code",
   "execution_count": 1,
   "id": "6b5fec9b",
   "metadata": {
    "tags": []
   },
   "outputs": [],
   "source": [
    "graph_type = 'heterogeneous'  # ['homogeneous', 'heterogeneous']\n",
    "fold = 'fold1'                # ['fold1', 'fold2', 'fold3']\n",
    "\n",
    "if fold == 'fold1':\n",
    "    train_slides_vpc = [2, 5, 6, 7]\n",
    "    val_slides_vpc   = [3]\n",
    "    test_slides_vpc  = [1]\n",
    "elif fold == 'fold2':\n",
    "    train_slides_vpc = [1, 3, 6, 7]\n",
    "    val_slides_vpc   = [2]\n",
    "    test_slides_vpc  = [5]\n",
    "elif fold == 'fold3':\n",
    "    train_slides_vpc = [1, 2, 3, 5]\n",
    "    val_slides_vpc   = [7]\n",
    "    test_slides_vpc  = [6]\n",
    "\n",
    "# DEPRECATED for graph building (we load embeddings, not models)\n",
    "# model_path = 'model/{}/model_mag_multi'.format(fold)\n",
    "# path_outcomes = '../data/PANDA/train.csv'\n",
    "\n",
    "# NEW: where you saved embeddings (matches your extraction notebook)\n",
    "path_embeddings = '../feature_extractor_6class/256_VPC_embeddings/'     # base dir\n",
    "embedding_layer = 'avgpool'                  # what we hooked for features\n",
    "model_name = '256_aug_model'                 # used in filenames\n",
    "patch_size = 512\n",
    "\n",
    "# Choose which magnifications to build graphs for\n",
    "magnifications = [10, 20, 40]                      # set to [10, 20, 40] if you extracted all\n",
    "\n",
    "# Edge type ids (keep consistent with your downstream GNN)\n",
    "edge_type_map = {\n",
    "    (10, 10): 0,\n",
    "    (20, 20): 1,\n",
    "    (40, 40): 2,\n",
    "    (10, 20): 3, (20, 10): 3,\n",
    "    (20, 40): 3, (40, 20): 3,\n",
    "    # uncomment if you also link 10↔40 directly:\n",
    "    # (10, 40): 3, (40, 10): 3,\n",
    "}\n"
   ]
  },
  {
   "cell_type": "markdown",
   "id": "8f70611b",
   "metadata": {},
   "source": [
    "# Import"
   ]
  },
  {
   "cell_type": "code",
   "execution_count": 2,
   "id": "43f23dc9",
   "metadata": {
    "tags": []
   },
   "outputs": [],
   "source": [
    "# import dgl\n",
    "# from dgl.data import DGLDataset\n",
    "from torch_geometric.data import Dataset\n",
    "from torch_geometric.data import Data\n",
    "from torch_geometric.utils import to_networkx, to_undirected\n",
    "import torch\n",
    "import os\n",
    "import networkx as nx # graph visualization\n",
    "import pickle\n",
    "import numpy as np\n",
    "import pandas as pd\n",
    "import re\n",
    "import matplotlib.pyplot as plt"
   ]
  },
  {
   "cell_type": "markdown",
   "id": "7da350e0",
   "metadata": {},
   "source": [
    "# Utils"
   ]
  },
  {
   "cell_type": "code",
   "execution_count": 3,
   "id": "f987d5f8",
   "metadata": {
    "tags": []
   },
   "outputs": [],
   "source": [
    "import os\n",
    "import re\n",
    "\n",
    "# Move a dict of tensors to a device\n",
    "def dict_to_device(orig, device):\n",
    "    return {k: v.to(device) for k, v in orig.items()}\n",
    "\n",
    "# ---------- Helpers for parsing paths and filenames ----------\n",
    "# Expected tail: .../<core>/<size>/<mag>/<x>_<y>.png\n",
    "def parse_coords_from_filename(path_or_name):\n",
    "    base = os.path.splitext(os.path.basename(path_or_name))[0]  # \"x_y\"\n",
    "    x_str, y_str = base.split('_')\n",
    "    return int(x_str), int(y_str)\n",
    "\n",
    "def parse_core_size_mag(path):\n",
    "    parts = path.split('/')\n",
    "    core = parts[-4]              # e.g., \"slide001_core003\"\n",
    "    size = int(parts[-3])         # e.g., 512\n",
    "    mag  = int(parts[-2])         # e.g., 40\n",
    "    return core, size, mag\n",
    "\n",
    "# Connect 4-neighbors at step = patch_size (diagonals excluded by distance condition)\n",
    "def is_neighbors(key, key_n, patch_size):\n",
    "    x, y = (int(t) for t in key.split('_'))\n",
    "    xn, yn = (int(t) for t in key_n.split('_'))\n",
    "    return (xn - x)**2 + (yn - y)**2 <= patch_size**2\n",
    "\n",
    "# Natural sort helpers\n",
    "def atoi(text):\n",
    "    return int(text) if text.isdigit() else text\n",
    "\n",
    "def natural_keys(text):\n",
    "    # usage: list.sort(key=natural_keys) for human-order sorting\n",
    "    return [atoi(c) for c in re.split(r'(\\d+)', text)]\n"
   ]
  },
  {
   "cell_type": "code",
   "execution_count": 4,
   "id": "18a91090",
   "metadata": {
    "tags": []
   },
   "outputs": [
    {
     "name": "stdout",
     "output_type": "stream",
     "text": [
      "Data(x=[7, 1], edge_index=[2, 12], edge_attr=[12, 1])\n"
     ]
    },
    {
     "data": {
      "image/png": "[encoded data removed]",
      "text/plain": [
       "<Figure size 500x400 with 1 Axes>"
      ]
     },
     "metadata": {},
     "output_type": "display_data"
    }
   ],
   "source": [
    "\n",
    "# star edges: 0 -> {1..6}\n",
    "edge_index = torch.tensor([[0,0,0,0,0,0],\n",
    "                           [1,2,3,4,5,6]], dtype=torch.long)\n",
    "\n",
    "# make undirected (adds reverse edges)\n",
    "edge_index = to_undirected(edge_index)\n",
    "num_edges = edge_index.size(1)\n",
    "\n",
    "# node features: 7 nodes, 1 feature each\n",
    "x = torch.tensor([[0], [0], [0], [0], [0], [1], [1]], dtype=torch.float)\n",
    "\n",
    "# edge features: match number of edges\n",
    "edge_attr = torch.rand(num_edges, 1, dtype=torch.float)\n",
    "\n",
    "data = Data(x=x, edge_index=edge_index, edge_attr=edge_attr)\n",
    "print(data)  # e.g., Data(edge_attr=[12, 1], edge_index=[2, 12], x=[7, 1])\n",
    "\n",
    "# visualize with networkx\n",
    "G = to_networkx(data, node_attrs=[\"x\"], edge_attrs=[\"edge_attr\"])\n",
    "plt.figure(figsize=(5,4))\n",
    "pos = nx.spring_layout(G, seed=0)\n",
    "nx.draw(G, pos, with_labels=True, node_size=600)\n",
    "plt.show()\n",
    "\n",
    "# --- DGL equivalent (optional) ---\n",
    "# import dgl\n",
    "# g = dgl.graph((edge_index[0], edge_index[1]), num_nodes=x.size(0))\n",
    "# g = dgl.to_bidirected(g, copy_ndata=True, copy_edata=True)\n",
    "# print(g)\n"
   ]
  },
  {
   "cell_type": "markdown",
   "id": "4ba726f0",
   "metadata": {},
   "source": [
    "# Dataset"
   ]
  },
  {
   "cell_type": "code",
   "execution_count": 5,
   "id": "d7a46dd7",
   "metadata": {
    "tags": []
   },
   "outputs": [],
   "source": [
    "# assumes these are defined in earlier cells:\n",
    "# graph_type, fold, path_embeddings, embedding_layer, model_name, patch_size, magnifications\n",
    "# is_neighbors, natural_keys\n",
    "\n",
    "class VPCDataset(Dataset):\n",
    "    def __init__(self, root, fold, magnifications, path_outcomes=None,\n",
    "                 transform=None, pre_transform=None, pre_filter=None,\n",
    "                 labels_csv=None):\n",
    "        \"\"\"\n",
    "        root: base dir where embeddings are saved, e.g. '256_VPC_embeddings/'\n",
    "        fold: e.g. 'fold1'\n",
    "        magnifications: list like [40] or [10,20,40]\n",
    "        path_outcomes: (optional) legacy PANDA/Zurich outcomes CSV\n",
    "        labels_csv: (optional) patch-level labels CSV with 'path' and 'hard_label'\n",
    "        \"\"\"\n",
    "        self.fold = fold\n",
    "        self.magnifications = list(magnifications)\n",
    "        self.embeddings_root = os.path.join(root, fold)  # e.g., 256_VPC_embeddings/fold1\n",
    "\n",
    "        # Label source:\n",
    "        self.core2label = None\n",
    "        if labels_csv is not None:\n",
    "            # derive a core-level label via majority vote over patches per core\n",
    "            df = pd.read_csv(labels_csv)\n",
    "            # core folder name is path split at -4: .../<core>/<size>/<mag>/<file.png>\n",
    "            df = df.assign(core=df[\"path\"].apply(lambda p: p.split(\"/\")[-4]))\n",
    "            # majority vote (mode); in ties, take the first mode\n",
    "            core_labels = (\n",
    "                df.groupby(\"core\")[\"hard_label\"]\n",
    "                  .agg(lambda s: int(pd.Series(s).mode().iloc[0]))\n",
    "                  .to_dict()\n",
    "            )\n",
    "            self.core2label = core_labels\n",
    "        elif path_outcomes is not None:\n",
    "            # legacy: external outcomes per core/slide (not used in VPC CSV flow)\n",
    "            self.df = pd.read_csv(path_outcomes).reset_index(drop=True)\n",
    "        # else: graphs will be saved with y = -1 (unknown)\n",
    "\n",
    "        super().__init__(os.path.join(root, fold), transform, pre_transform, pre_filter)\n",
    "\n",
    "    @property\n",
    "    def raw_file_names(self):\n",
    "        # Returning a placeholder to force `process()` unless processed exists.\n",
    "        return ['_embeddings_ready']\n",
    "\n",
    "    @property\n",
    "    def processed_file_names(self):\n",
    "        # List all processed graphs for this fold; if none, return a placeholder\n",
    "        proc_dir = self.processed_dir\n",
    "        if os.path.isdir(proc_dir):\n",
    "            files = [f for f in os.listdir(proc_dir) if f.endswith(f'_{graph_type}.pt')]\n",
    "            return files if files else ['_placeholder.pt']\n",
    "        return ['_placeholder.pt']\n",
    "\n",
    "    def download(self):\n",
    "        # nothing to download\n",
    "        pass\n",
    "\n",
    "    def process(self):\n",
    "        # use the embeddings directory directly\n",
    "        base = self.embeddings_root\n",
    "        if not os.path.isdir(base):\n",
    "            raise FileNotFoundError(f\"Embeddings directory not found: {base}\")\n",
    "\n",
    "        # enumerate cores (each subdir is a core like 'slide001_core003')\n",
    "        cores = [d for d in os.listdir(base) if os.path.isdir(os.path.join(base, d))]\n",
    "        # ignore any notebook checkpoints if present\n",
    "        cores = [c for c in cores if c != '.ipynb_checkpoints']\n",
    "\n",
    "        # local references\n",
    "        mags = self.magnifications\n",
    "        m = len(mags)\n",
    "        patch_size_local = patch_size  # use global patch_size from your config\n",
    "\n",
    "        for idx, core in enumerate(cores, 1):\n",
    "            print(f'{core}, {idx}/{len(cores)}')\n",
    "\n",
    "            # choose a graph label y (core-level). If unknown, set to -1.\n",
    "            if self.core2label is not None:\n",
    "                y = int(self.core2label.get(core, -1))\n",
    "            else:\n",
    "                y = -1  # unknown\n",
    "\n",
    "            # load embeddings dicts for requested magnifications\n",
    "            embd_paths = []\n",
    "            for mag in mags:\n",
    "                embd_path = os.path.join(base, core, str(patch_size_local), str(mag),\n",
    "                                         f'{model_name}_{embedding_layer}.pkl')\n",
    "                if not os.path.isfile(embd_path):\n",
    "                    # skip cores that don't have this mag\n",
    "                    continue\n",
    "                embd_paths.append((mag, embd_path))\n",
    "\n",
    "            if len(embd_paths) == 0:\n",
    "                # no embeddings found for this core\n",
    "                continue\n",
    "\n",
    "            # keep order consistent with self.magnifications (for node layout)\n",
    "            embd_paths.sort(key=lambda t: mags.index(t[0]))\n",
    "            embd_dicts = []\n",
    "            for _, pkl_path in embd_paths:\n",
    "                with open(pkl_path, 'rb') as f:\n",
    "                    embd_dicts.append(pickle.load(f))\n",
    "\n",
    "            # keys are patch IDs like 'x_y'\n",
    "            dict_keys = list(embd_dicts[0].keys())\n",
    "            dict_keys.sort(key=natural_keys)\n",
    "            # remove stray checkpoint keys\n",
    "            dict_keys = [k for k in dict_keys if k != '.ipynb_checkpo']\n",
    "\n",
    "            # features: [m, N, 512] then reshape to [m*N, 512] in column-major (order='F')\n",
    "            N = len(dict_keys)\n",
    "            x_np = np.zeros((len(embd_dicts), N, 512), dtype=np.float32)\n",
    "            edge = []\n",
    "\n",
    "            # edge type counters in the order we append edges\n",
    "            edge_type_size = {}\n",
    "\n",
    "            # ---- within-mag 4-neighbor edges ----\n",
    "            for k, embd_dict in enumerate(embd_dicts):\n",
    "                for i, key in enumerate(dict_keys):\n",
    "                    x_np[k, i] = embd_dict[key]\n",
    "                for i, key in enumerate(dict_keys):\n",
    "                    for j, key_n in enumerate(dict_keys):\n",
    "                        if is_neighbors(key, key_n, patch_size_local):\n",
    "                            # global node index layout: [node0_mag0, node0_mag1, ..., node1_mag0, ...] with order='F'\n",
    "                            edge.append([i * len(embd_dicts) + k, j * len(embd_dicts) + k])\n",
    "                            et = f\"{mags[k]}_{mags[k]}\"\n",
    "                            edge_type_size[et] = edge_type_size.get(et, 0) + 1\n",
    "\n",
    "            # ---- cross-mag links (only if the mags exist) ----\n",
    "            # link consecutive magnifications (e.g., 10<->20, 20<->40)\n",
    "            for k in range(len(embd_dicts) - 1):\n",
    "                left_mag  = mags[k]\n",
    "                right_mag = mags[k + 1]\n",
    "                et = f\"{left_mag}_{right_mag}\"\n",
    "                et_rev = f\"{right_mag}_{left_mag}\"\n",
    "                edge_type_size.setdefault(et, 0)\n",
    "                edge_type_size.setdefault(et_rev, 0)\n",
    "                for i in range(N):\n",
    "                    # i@left <-> i@right (bidirectional)\n",
    "                    edge.append([i * len(embd_dicts) + k,     i * len(embd_dicts) + (k + 1)])\n",
    "                    edge.append([i * len(embd_dicts) + (k+1), i * len(embd_dicts) + k])\n",
    "                    edge_type_size[et]     += 1\n",
    "                    edge_type_size[et_rev] += 1\n",
    "\n",
    "            # flatten features to [m*N, 512] with column-major order to match our node indexing\n",
    "            x_np = np.reshape(x_np, (x_np.shape[0] * x_np.shape[1], x_np.shape[2]), order='F')\n",
    "\n",
    "            # construct edge_index tensor [2, E]\n",
    "            if len(edge) == 0:\n",
    "                # graph with isolated nodes\n",
    "                edge_index = torch.empty((2, 0), dtype=torch.long)\n",
    "            else:\n",
    "                e = torch.tensor(edge, dtype=torch.long).t()\n",
    "                edge_index = e.detach()\n",
    "\n",
    "            # build edge_type vector to match the order we appended edges\n",
    "            # (first all within-mag in k order, then cross-mag blocks in k order)\n",
    "            edge_type_blocks = []\n",
    "            # within-mag blocks in k order\n",
    "            for k in range(len(embd_dicts)):\n",
    "                et = f\"{mags[k]}_{mags[k]}\"\n",
    "                edge_type_blocks.extend([et] * edge_type_size.get(et, 0))\n",
    "            # cross-mag consecutive blocks in k order (forward then reverse)\n",
    "            for k in range(len(embd_dicts) - 1):\n",
    "                et = f\"{mags[k]}_{mags[k+1]}\"\n",
    "                edge_type_blocks.extend([et] * edge_type_size.get(et, 0))\n",
    "                et_rev = f\"{mags[k+1]}_{mags[k]}\"\n",
    "                edge_type_blocks.extend([et_rev] * edge_type_size.get(et_rev, 0))\n",
    "\n",
    "            # map string types to integer ids (stable order by first appearance)\n",
    "            etype_to_id = {}\n",
    "            edge_type_ids = []\n",
    "            for et in edge_type_blocks:\n",
    "                if et not in etype_to_id:\n",
    "                    etype_to_id[et] = len(etype_to_id)\n",
    "                edge_type_ids.append(etype_to_id[et])\n",
    "            edge_type = torch.tensor(edge_type_ids, dtype=torch.long) if len(edge_type_ids) > 0 else None\n",
    "\n",
    "            # pack Data\n",
    "            data = Data(\n",
    "                x=torch.from_numpy(x_np),           # [m*N, 512]\n",
    "                edge_index=edge_index,              # [2, E]\n",
    "                y=torch.tensor([y], dtype=torch.long)  # graph label (core-level), -1 if unknown\n",
    "            )\n",
    "\n",
    "            if graph_type == 'heterogeneous' and edge_type is not None:\n",
    "                data = data.to_heterogeneous(edge_type=edge_type)\n",
    "\n",
    "            # user filters / transforms\n",
    "            if self.pre_filter is not None and not self.pre_filter(data):\n",
    "                continue\n",
    "            if self.pre_transform is not None:\n",
    "                data = self.pre_transform(data)\n",
    "\n",
    "            # save once per core\n",
    "            out_name = f'{core}_{graph_type}.pt'\n",
    "            torch.save(data, os.path.join(self.processed_dir, out_name))\n",
    "\n",
    "    def len(self):\n",
    "        return len(self.processed_file_names)\n",
    "\n",
    "    def get(self, idx):\n",
    "        data = torch.load(os.path.join(self.processed_dir, self.processed_file_names[idx]))\n",
    "        return data\n"
   ]
  },
  {
   "cell_type": "code",
   "execution_count": 8,
   "id": "8e9a7091",
   "metadata": {
    "scrolled": true,
    "tags": []
   },
   "outputs": [],
   "source": [
    "labels_csv = '../data/VPC/patch_labels_majority.csv'\n",
    "magnifications = [10,20,40]\n",
    "\n",
    "dataset = VPCDataset(\n",
    "    root=path_embeddings,\n",
    "    fold=fold,\n",
    "    magnifications=magnifications,   # e.g., [40] or [10,20,40]\n",
    "    labels_csv=labels_csv            \n",
    ")"
   ]
  },
  {
   "cell_type": "code",
   "execution_count": 9,
   "id": "8b7af469",
   "metadata": {},
   "outputs": [
    {
     "name": "stdout",
     "output_type": "stream",
     "text": [
      "244\n"
     ]
    }
   ],
   "source": [
    "print(len(dataset))"
   ]
  },
  {
   "cell_type": "code",
   "execution_count": 10,
   "id": "24553846",
   "metadata": {},
   "outputs": [
    {
     "name": "stdout",
     "output_type": "stream",
     "text": [
      "[[[ 1  2]\n",
      "  [ 3  4]]\n",
      "\n",
      " [[ 5  6]\n",
      "  [ 7  8]]\n",
      "\n",
      " [[ 9 10]\n",
      "  [11 12]]]\n"
     ]
    }
   ],
   "source": [
    "a = np.array([[[1,2],[3,4]],[[5,6],[7,8]], [[9,10],[11,12]]])\n",
    "print(a)"
   ]
  },
  {
   "cell_type": "code",
   "execution_count": 11,
   "id": "c91abae2",
   "metadata": {},
   "outputs": [
    {
     "name": "stdout",
     "output_type": "stream",
     "text": [
      "[[ 1  2]\n",
      " [ 5  6]\n",
      " [ 9 10]\n",
      " [ 3  4]\n",
      " [ 7  8]\n",
      " [11 12]]\n"
     ]
    }
   ],
   "source": [
    "print(np.reshape(a, (3*2,2), order='F'))"
   ]
  },
  {
   "cell_type": "code",
   "execution_count": null,
   "id": "c4fea206-560a-4fab-ad95-ac0b4b9a116e",
   "metadata": {},
   "outputs": [],
   "source": []
  }
 ],
 "metadata": {
  "kernelspec": {
   "display_name": "msrgcn",
   "language": "python",
   "name": "python3"
  },
  "language_info": {
   "codemirror_mode": {
    "name": "ipython",
    "version": 3
   },
   "file_extension": ".py",
   "mimetype": "text/x-python",
   "name": "python",
   "nbconvert_exporter": "python",
   "pygments_lexer": "ipython3",
   "version": "3.8.18"
  }
 },
 "nbformat": 4,
 "nbformat_minor": 5
}

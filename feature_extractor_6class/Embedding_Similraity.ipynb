{
 "cells": [
  {
   "cell_type": "code",
   "execution_count": 1,
   "id": "a9ffb783",
   "metadata": {},
   "outputs": [
    {
     "name": "stderr",
     "output_type": "stream",
     "text": [
      "/home/user01/miniconda3/envs/msrgcn/lib/python3.8/site-packages/torchvision/io/image.py:13: UserWarning: Failed to load image Python extension: '/home/user01/miniconda3/envs/msrgcn/lib/python3.8/site-packages/torchvision/image.so: undefined symbol: _ZN3c1017RegisterOperatorsD1Ev'If you don't plan on using image functionality from `torchvision.io`, you can ignore this warning. Otherwise, there might be something wrong with your environment. Did you have `libjpeg` or `libpng` installed before building `torchvision` from source?\n",
      "  warn(\n"
     ]
    }
   ],
   "source": [
    "import os\n",
    "import cv2\n",
    "import pickle\n",
    "import numpy as np\n",
    "import torch\n",
    "import torch.nn as nn\n",
    "import torchvision\n",
    "from torchvision import transforms\n",
    "from skimage import io\n",
    "from PIL import ImageFile\n",
    "from sklearn.metrics.pairwise import cosine_similarity\n",
    "import pandas as pd\n",
    "\n",
    "ImageFile.LOAD_TRUNCATED_IMAGES = True"
   ]
  },
  {
   "cell_type": "code",
   "execution_count": 2,
   "id": "7b645b50",
   "metadata": {},
   "outputs": [],
   "source": [
    "CUDA_DEVICE = \"0\"  \n",
    "os.environ[\"CUDA_DEVICE_ORDER\"] = \"PCI_BUS_ID\"\n",
    "os.environ[\"CUDA_VISIBLE_DEVICES\"] = CUDA_DEVICE\n",
    "\n",
    "#model_dir = 'model_VPC_Zurich'\n",
    "embedding_layer_name = 'avgpool'\n",
    "model_name = '256_aug_model'\n",
    "magnifications = [10, 20]\n",
    "folds = ['fold1']\n",
    "patch_size = 512"
   ]
  },
  {
   "cell_type": "code",
   "execution_count": 3,
   "id": "ea67f170",
   "metadata": {},
   "outputs": [
    {
     "name": "stdout",
     "output_type": "stream",
     "text": [
      "torch: 2.4.1\n",
      "compiled_with_cuda: 12.1\n",
      "cuda.is_available: True\n",
      "device_count: 1\n",
      "Using GPU: NVIDIA GeForce RTX 4090\n"
     ]
    }
   ],
   "source": [
    "os.environ.pop(\"CUDA_VISIBLE_DEVICES\", None)  \n",
    "print(\"torch:\", torch.__version__)\n",
    "print(\"compiled_with_cuda:\", torch.version.cuda)\n",
    "print(\"cuda.is_available:\", torch.cuda.is_available())\n",
    "print(\"device_count:\", torch.cuda.device_count())\n",
    "\n",
    "device = torch.device(\"cuda\" if torch.cuda.is_available() else \"cpu\")\n",
    "if torch.cuda.is_available():\n",
    "    try:\n",
    "        print(\"Using GPU:\", torch.cuda.get_device_name(0))\n",
    "    except Exception:\n",
    "        print(\"GPU visible but get_device_name failed (continuing).\")\n",
    "else:\n",
    "    print(\"⚠ Running on CPU\")"
   ]
  },
  {
   "cell_type": "code",
   "execution_count": 4,
   "id": "18033d84",
   "metadata": {},
   "outputs": [],
   "source": [
    "# Input/output\n",
    "root_patch_dir = '../data/VPC/multiscale_patches_Train/'\n",
    "output_embedding_dir = '../data/VPC/Embeddings/'"
   ]
  },
  {
   "cell_type": "code",
   "execution_count": 5,
   "id": "4ae1190f",
   "metadata": {},
   "outputs": [],
   "source": [
    "class NN(nn.Module):\n",
    "    def __init__(self, num_classes=6):\n",
    "        super().__init__()\n",
    "        self.model = torchvision.models.resnet18(pretrained=True)\n",
    "        self.model.fc = nn.Linear(512, num_classes)\n",
    "\n",
    "    def forward(self, x_dict):\n",
    "        return {'label': self.model(x_dict['img'])}\n"
   ]
  },
  {
   "cell_type": "code",
   "execution_count": 6,
   "id": "30696385",
   "metadata": {},
   "outputs": [],
   "source": [
    "def dict_to_device(d, device='cuda'):\n",
    "    return {k: v.to(device) for k, v in d.items()}\n",
    "\n",
    "\n",
    "def directory_maker(path):\n",
    "    if not os.path.exists(path):\n",
    "        os.makedirs(path)\n",
    "\n",
    "\n",
    "def get_activation_hook(layer_name):\n",
    "    activation = {}\n",
    "\n",
    "    def hook(model, input, output):\n",
    "        activation[layer_name] = output\n",
    "\n",
    "    return activation, hook"
   ]
  },
  {
   "cell_type": "code",
   "execution_count": 24,
   "id": "ac19ae5f",
   "metadata": {},
   "outputs": [],
   "source": [
    "def load_model(model_name, embedding_layer):\n",
    "    model = torchvision.models.resnet18(pretrained=True).cuda()\n",
    "    activation = {}\n",
    "\n",
    "    def hook(module, input, output):\n",
    "        activation[embedding_layer] = output\n",
    "\n",
    "    model.avgpool.register_forward_hook(hook)\n",
    "    model.eval()\n",
    "    return model, activation\n"
   ]
  },
  {
   "cell_type": "code",
   "execution_count": 25,
   "id": "dc933e76",
   "metadata": {},
   "outputs": [],
   "source": [
    "def save_patch_embeddings(model, activation, patch_paths, output_path, embedding_layer):\n",
    "    if os.path.exists(output_path):\n",
    "        print(f\"✅ Already exists: {output_path}\")\n",
    "        return\n",
    "\n",
    "    transform = transforms.ToTensor()\n",
    "    embeddings = {}\n",
    "\n",
    "    for img_path in patch_paths:\n",
    "        if not img_path.endswith('.png'):\n",
    "            continue\n",
    "        try:\n",
    "            img = io.imread(img_path)\n",
    "            if img.shape[2] == 4: img = img[:, :, :3]\n",
    "        except:\n",
    "            print(f\"Failed to read image: {img_path}\")\n",
    "            continue\n",
    "\n",
    "        img = cv2.resize(img, (256, 256), interpolation=cv2.INTER_CUBIC)\n",
    "        img_tensor = transform(img).unsqueeze(0).cuda()\n",
    "\n",
    "        with torch.no_grad():\n",
    "            model(dict_to_device({'img': img_tensor}))\n",
    "        patch_name = os.path.basename(img_path)[:-4]\n",
    "        emb = activation[embedding_layer].squeeze(0).cpu().numpy()\n",
    "        embeddings[patch_name] = emb\n",
    "\n",
    "    directory_maker(os.path.dirname(output_path))\n",
    "    with open(output_path, 'wb') as f:\n",
    "        pickle.dump(embeddings, f)\n",
    "    print(f\"✅ Saved: {output_path}\")"
   ]
  },
  {
   "cell_type": "code",
   "execution_count": 26,
   "id": "d3f35eb7",
   "metadata": {},
   "outputs": [],
   "source": [
    "def collect_patch_paths(root_dir, magnifications, sizes):\n",
    "    patch_dict = {mag: {} for mag in magnifications}\n",
    "    for core in os.listdir(root_dir):\n",
    "        for size in sizes:\n",
    "            for mag in magnifications:\n",
    "                patch_folder = os.path.join(root_dir, core, str(size), str(mag))\n",
    "                if not os.path.exists(patch_folder): continue\n",
    "                patch_paths = [os.path.join(patch_folder, f) for f in os.listdir(patch_folder) if f.endswith('.png')]\n",
    "                patch_dict[mag][core] = patch_paths\n",
    "    return patch_dict\n"
   ]
  },
  {
   "cell_type": "code",
   "execution_count": null,
   "id": "a2ed6214",
   "metadata": {},
   "outputs": [],
   "source": [
    "def compute_similarity(pkl_path, metric='cosine', topk=None, save_csv=True):\n",
    "    with open(pkl_path, 'rb') as f:\n",
    "        emb_dict = pickle.load(f)\n",
    "\n",
    "    patch_names = sorted(emb_dict.keys())\n",
    "    embeddings = np.array([emb_dict[k] for k in patch_names])\n",
    "\n",
    "    if metric == 'cosine':\n",
    "        sim_matrix = cosine_similarity(embeddings)\n",
    "    elif metric == 'l2':\n",
    "        sim_matrix = -np.linalg.norm(embeddings[:, None] - embeddings[None, :], axis=-1)\n",
    "    else:\n",
    "        raise ValueError(\"Unsupported metric\")\n",
    "\n",
    "    similarity_list = []\n",
    "    for i, name_i in enumerate(patch_names):\n",
    "        sims = sim_matrix[i]\n",
    "        indices = np.argsort(-sims)  # descending\n",
    "        for j in indices:\n",
    "            if i == j:\n",
    "                continue  # skip self-similarity\n",
    "            if topk and len(similarity_list) >= topk * len(patch_names):\n",
    "                break\n",
    "            name_j = patch_names[j]\n",
    "            similarity_list.append((name_i, name_j, float(sims[j])))\n",
    "\n",
    "    if save_csv:\n",
    "        import pandas as pd\n",
    "        df = pd.DataFrame(similarity_list, columns=['patch_i', 'patch_j', 'similarity'])\n",
    "        out_path = pkl_path.replace('.pkl', f'_{metric}_similarity_pairs.csv')\n",
    "        df.to_csv(out_path, index=False)\n",
    "\n",
    "    return similarity_list"
   ]
  },
  {
   "cell_type": "code",
   "execution_count": null,
   "id": "f23f55ec",
   "metadata": {},
   "outputs": [],
   "source": [
    "def run_embedding_pipeline():\n",
    "    patch_dict = collect_patch_paths(root_patch_dir, magnifications, [patch_size])\n",
    "\n",
    "    for fold in folds:\n",
    "        for mag in magnifications:\n",
    "            # Load ImageNet-pretrained ResNet18 with forward hook\n",
    "            model, activation = load_model(model_name, embedding_layer_name)\n",
    "\n",
    "            for core_name, patch_list in patch_dict[mag].items():\n",
    "                out_pkl = os.path.join(output_embedding_dir, fold, core_name, str(patch_size), str(mag),\n",
    "                                       f'{model_name}_{embedding_layer_name}.pkl')\n",
    "                save_patch_embeddings(model, activation, patch_list, out_pkl, embedding_layer_name)\n",
    "\n",
    "                # Optional: generate similarity \n",
    "                compute_similarity(out_pkl, metric='cosine')\n"
   ]
  },
  {
   "cell_type": "code",
   "execution_count": null,
   "id": "85f4b6fd",
   "metadata": {},
   "outputs": [],
   "source": [
    "if __name__ == \"__main__\":\n",
    "    run_embedding_pipeline()\n"
   ]
  }
 ],
 "metadata": {
  "kernelspec": {
   "display_name": "msrgcn",
   "language": "python",
   "name": "python3"
  },
  "language_info": {
   "codemirror_mode": {
    "name": "ipython",
    "version": 3
   },
   "file_extension": ".py",
   "mimetype": "text/x-python",
   "name": "python",
   "nbconvert_exporter": "python",
   "pygments_lexer": "ipython3",
   "version": "3.8.18"
  }
 },
 "nbformat": 4,
 "nbformat_minor": 5
}

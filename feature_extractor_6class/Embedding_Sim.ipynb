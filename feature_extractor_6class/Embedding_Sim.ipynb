{
 "cells": [
  {
   "cell_type": "code",
   "execution_count": 1,
   "id": "a734bd7e",
   "metadata": {},
   "outputs": [
    {
     "name": "stderr",
     "output_type": "stream",
     "text": [
      "/home/user01/miniconda3/envs/msrgcn/lib/python3.8/site-packages/torchvision/io/image.py:13: UserWarning: Failed to load image Python extension: '/home/user01/miniconda3/envs/msrgcn/lib/python3.8/site-packages/torchvision/image.so: undefined symbol: _ZN3c1017RegisterOperatorsD1Ev'If you don't plan on using image functionality from `torchvision.io`, you can ignore this warning. Otherwise, there might be something wrong with your environment. Did you have `libjpeg` or `libpng` installed before building `torchvision` from source?\n",
      "  warn(\n"
     ]
    }
   ],
   "source": [
    "import os, glob, pickle, csv\n",
    "import numpy as np\n",
    "import torch, torch.nn as nn\n",
    "import torchvision\n",
    "import torchvision.transforms as transforms\n",
    "from skimage import io\n",
    "import cv2 as cv\n",
    "from tqdm import tqdm"
   ]
  },
  {
   "cell_type": "code",
   "execution_count": 2,
   "id": "2fcb6567",
   "metadata": {},
   "outputs": [
    {
     "name": "stdout",
     "output_type": "stream",
     "text": [
      "torch: 2.4.1\n",
      "compiled_with_cuda: 12.1\n",
      "cuda.is_available: True\n",
      "device_count: 1\n",
      "Using GPU: NVIDIA GeForce RTX 4090\n"
     ]
    }
   ],
   "source": [
    "os.environ.pop(\"CUDA_VISIBLE_DEVICES\", None)  \n",
    "print(\"torch:\", torch.__version__)\n",
    "print(\"compiled_with_cuda:\", torch.version.cuda)\n",
    "print(\"cuda.is_available:\", torch.cuda.is_available())\n",
    "print(\"device_count:\", torch.cuda.device_count())\n",
    "\n",
    "device = torch.device(\"cuda\" if torch.cuda.is_available() else \"cpu\")\n",
    "if torch.cuda.is_available():\n",
    "    try:\n",
    "        print(\"Using GPU:\", torch.cuda.get_device_name(0))\n",
    "    except Exception:\n",
    "        print(\"GPU visible but get_device_name failed (continuing).\")\n",
    "else:\n",
    "    print(\"⚠ Running on CPU\")\n"
   ]
  },
  {
   "cell_type": "code",
   "execution_count": 3,
   "id": "6b27402e",
   "metadata": {},
   "outputs": [],
   "source": [
    "torch.backends.cudnn.benchmark = torch.cuda.is_available()\n",
    "AMP_DTYPE = torch.bfloat16 if (torch.cuda.is_available() and torch.cuda.is_bf16_supported()) else torch.float16"
   ]
  },
  {
   "cell_type": "code",
   "execution_count": 4,
   "id": "d86c2e53",
   "metadata": {},
   "outputs": [],
   "source": [
    "INPUT_DIR = '../data/VPC/multiscale_patches_Train/' \n",
    "EMB_OUT_PKL = \"../data/VPC/patch_embeddings_avgpool.pkl\"\n",
    "SIM_MAT_OUT_NPY = \"similarity_cosine.npy\"\n",
    "TOPK_CSV = \"topk_neighbors.csv\""
   ]
  },
  {
   "cell_type": "code",
   "execution_count": 5,
   "id": "7bb192b4",
   "metadata": {},
   "outputs": [],
   "source": [
    "BATCH_SIZE = 128 if torch.cuda.is_available() else 32\n",
    "IMG_SIZE   = 256\n",
    "TOPK       = 10\n",
    "NUM_CLASSES = 6 "
   ]
  },
  {
   "cell_type": "code",
   "execution_count": 6,
   "id": "9fe545c0",
   "metadata": {},
   "outputs": [],
   "source": [
    "def load_resnet18_pretrained(num_classes=NUM_CLASSES):\n",
    "    \"\"\"\n",
    "    Pretrained ResNet18 (ImageNet). We only use avgpool embeddings.\n",
    "    \"\"\"\n",
    "    weights = torchvision.models.ResNet18_Weights.IMAGENET1K_V1\n",
    "    model = torchvision.models.resnet18(weights=weights)\n",
    "    model.fc = nn.Linear(512, num_classes, bias=True)  # FC not used for embeddings\n",
    "    model = model.to(device).eval()\n",
    "    if torch.cuda.is_available():\n",
    "        model = model.to(memory_format=torch.channels_last)\n",
    "    return model"
   ]
  },
  {
   "cell_type": "code",
   "execution_count": 13,
   "id": "c602dc88",
   "metadata": {},
   "outputs": [],
   "source": [
    "_to_tensor = transforms.ToTensor()\n",
    "\n",
    "def preprocess_np(img_np):\n",
    "    if img_np.ndim == 2:\n",
    "        img_np = cv.cvtColor(img_np, cv.COLOR_GRAY2RGB)\n",
    "    if img_np.shape[2] == 4:\n",
    "        img_np = img_np[:, :, :3]\n",
    "    img_np = cv.resize(img_np, (IMG_SIZE, IMG_SIZE), interpolation=cv.INTER_CUBIC)\n",
    "    t = _to_tensor(img_np)  # [3,H,W], float32\n",
    "    return t  # <-- no channels_last here (it's 3D)\n",
    "\n",
    "\n",
    "def iter_image_paths(root):\n",
    "    return sorted(glob.glob(os.path.join(root, \"**\", \"*.png\"), recursive=True))"
   ]
  },
  {
   "cell_type": "code",
   "execution_count": 8,
   "id": "69fefecc",
   "metadata": {},
   "outputs": [],
   "source": [
    "def build_avgpool_hook(model):\n",
    "    activation = {}\n",
    "    def hook(_, __, out):\n",
    "        activation[\"avgpool\"] = out\n",
    "    layer = dict(model.named_modules())[\"avgpool\"]\n",
    "    handle = layer.register_forward_hook(hook)\n",
    "    return activation, handle"
   ]
  },
  {
   "cell_type": "code",
   "execution_count": 15,
   "id": "29e5a68d",
   "metadata": {},
   "outputs": [],
   "source": [
    "@torch.no_grad()\n",
    "def extract_embeddings(model, image_paths, batch_size=BATCH_SIZE):\n",
    "    activation, handle = build_avgpool_hook(model)\n",
    "    filenames, embs = [], []\n",
    "    batch_imgs, batch_names = [], []\n",
    "\n",
    "    def flush():\n",
    "        if not batch_imgs:\n",
    "            return\n",
    "        batch = torch.stack(batch_imgs, 0).to(device, non_blocking=True)\n",
    "        if torch.cuda.is_available():\n",
    "            batch = batch.to(memory_format=torch.channels_last)\n",
    "            use_amp = True\n",
    "        else:\n",
    "            use_amp = False\n",
    "\n",
    "        if use_amp:\n",
    "            with torch.autocast(device_type=\"cuda\", dtype=AMP_DTYPE):\n",
    "                _ = model(batch)\n",
    "                out = activation[\"avgpool\"]    # [B,512,1,1] or [B,512]\n",
    "                out = torch.flatten(out, 1)    # [B,512]\n",
    "        else:\n",
    "            _ = model(batch)\n",
    "            out = activation[\"avgpool\"]\n",
    "            out = torch.flatten(out, 1)\n",
    "\n",
    "        embs.append(out.detach().to(torch.float32).cpu().numpy())\n",
    "        filenames.extend(batch_names)\n",
    "        batch_imgs.clear(); batch_names.clear()\n",
    "\n",
    "    for p in tqdm(image_paths, desc=\"Embedding\"):\n",
    "        try:\n",
    "            img = io.imread(p)\n",
    "        except Exception as e:\n",
    "            print(f\"Skip read error: {p} ({e})\"); continue\n",
    "        batch_imgs.append(preprocess_np(img))\n",
    "        batch_names.append(p)\n",
    "        if len(batch_imgs) >= batch_size:\n",
    "            flush()\n",
    "    flush()\n",
    "    handle.remove()\n",
    "    E = np.concatenate(embs, 0) if embs else np.zeros((0,512), np.float32)\n",
    "    return filenames, E"
   ]
  },
  {
   "cell_type": "code",
   "execution_count": 16,
   "id": "6d77c56e",
   "metadata": {},
   "outputs": [],
   "source": [
    "def cosine_similarity_matrix(E: np.ndarray) -> np.ndarray:\n",
    "    if E.shape[0] == 0:\n",
    "        return np.zeros((0,0), np.float32)\n",
    "    norms = np.linalg.norm(E, axis=1, keepdims=True) + 1e-12\n",
    "    En = E / norms\n",
    "    S = En @ En.T\n",
    "    return S.astype(np.float32)"
   ]
  },
  {
   "cell_type": "code",
   "execution_count": 17,
   "id": "75eadc97",
   "metadata": {},
   "outputs": [],
   "source": [
    "def save_topk_neighbors_csv(files, S, k=TOPK, out_csv=TOPK_CSV):\n",
    "    N = S.shape[0]\n",
    "    with open(out_csv, \"w\", newline=\"\") as f:\n",
    "        w = csv.writer(f)\n",
    "        w.writerow([\"index\",\"file\",\"neighbor_index\",\"neighbor_file\",\"cosine_sim\"])\n",
    "        for i in range(N):\n",
    "            idx = np.argsort(-S[i])\n",
    "            idx = idx[idx != i][:k]\n",
    "            for j in idx:\n",
    "                w.writerow([i, files[i], j, files[j], f\"{S[i,j]:.6f}\"])"
   ]
  },
  {
   "cell_type": "code",
   "execution_count": 18,
   "id": "82908358",
   "metadata": {},
   "outputs": [
    {
     "name": "stdout",
     "output_type": "stream",
     "text": [
      "Model device: cuda:0\n"
     ]
    },
    {
     "name": "stderr",
     "output_type": "stream",
     "text": [
      "Embedding: 100%|██████████| 71244/71244 [18:04<00:00, 65.70it/s]  \n"
     ]
    },
    {
     "name": "stdout",
     "output_type": "stream",
     "text": [
      "Embeddings: (71244, 512)\n",
      "Saved: ../data/VPC/patch_embeddings_avgpool.pkl\n",
      "Saved: similarity_cosine.npy (71244, 71244)\n",
      "Saved top-k: topk_neighbors.csv\n"
     ]
    }
   ],
   "source": [
    "def main():\n",
    "    # 1) collect images\n",
    "    paths = iter_image_paths(INPUT_DIR)\n",
    "    if not paths:\n",
    "        print(f\"No .png files found under: {INPUT_DIR}\")\n",
    "        return\n",
    "\n",
    "    # 2) load model\n",
    "    model = load_resnet18_pretrained()\n",
    "\n",
    "    # optional sanity: confirm device\n",
    "    try:\n",
    "        print(\"Model device:\", next(model.parameters()).device)\n",
    "    except StopIteration:\n",
    "        pass\n",
    "\n",
    "    # 3) extract embeddings\n",
    "    files, E = extract_embeddings(model, paths, batch_size=BATCH_SIZE)\n",
    "    print(\"Embeddings:\", E.shape)\n",
    "\n",
    "    # 4) save embeddings\n",
    "    with open(EMB_OUT_PKL, \"wb\") as f:\n",
    "        pickle.dump({\"files\": files, \"embeddings\": E}, f)\n",
    "    print(\"Saved:\", EMB_OUT_PKL)\n",
    "\n",
    "    # 5) compute & save similarity matrix\n",
    "    S = cosine_similarity_matrix(E)\n",
    "    np.save(SIM_MAT_OUT_NPY, S)\n",
    "    print(\"Saved:\", SIM_MAT_OUT_NPY, S.shape)\n",
    "\n",
    "    # 6) save top‑k neighbors CSV\n",
    "    save_topk_neighbors_csv(files, S, TOPK, TOPK_CSV)\n",
    "    print(\"Saved top-k:\", TOPK_CSV)\n",
    "\n",
    "if __name__ == \"__main__\":\n",
    "    main()"
   ]
  },
  {
   "cell_type": "code",
   "execution_count": 20,
   "id": "3739e7e5",
   "metadata": {},
   "outputs": [
    {
     "name": "stdout",
     "output_type": "stream",
     "text": [
      "Number of patches: 71244\n",
      "Embedding shape: (71244, 512)\n",
      "First file: ../data/VPC/multiscale_patches_Train/slide001_core003/512/10/0_0.png\n",
      "First embedding vector: [3.20312500e-01 1.84570312e-01 1.40380859e-02 1.62500000e+00\n",
      " 6.28906250e-01 2.34375000e-01 3.97949219e-02 7.66601562e-02\n",
      " 3.32031250e-01 2.07031250e-01 5.15136719e-02 5.54687500e-01\n",
      " 1.54418945e-02 1.07031250e+00 3.03955078e-02 6.91406250e-01\n",
      " 4.16015625e-01 1.02343750e+00 0.00000000e+00 3.35693359e-04\n",
      " 7.78198242e-03 1.96533203e-02 5.45501709e-04 2.51953125e-01\n",
      " 1.85546875e-02 3.32031250e-01 1.42211914e-02 3.96484375e-01\n",
      " 1.42578125e-01 3.17382812e-02 8.88671875e-02 5.78613281e-02\n",
      " 5.31250000e-01 3.49609375e-01 1.53808594e-02 8.47656250e-01\n",
      " 3.12500000e-01 4.12109375e-01 1.50781250e+00 0.00000000e+00\n",
      " 7.89062500e-01 2.67578125e-01 5.82031250e-01 2.32812500e+00\n",
      " 3.98437500e-01 7.93457031e-03 1.91406250e-01 2.48046875e-01\n",
      " 1.20312500e+00 4.78515625e-01 9.21875000e-01 1.96289062e-01\n",
      " 4.69970703e-03 0.00000000e+00 1.07031250e+00 5.82031250e-01\n",
      " 6.05468750e-01 1.78710938e-01 1.24511719e-01 7.61718750e-02\n",
      " 8.15429688e-02 4.31640625e-01 1.13769531e-01 0.00000000e+00\n",
      " 1.49218750e+00 3.22265625e-01 3.82812500e-01 2.34375000e-02\n",
      " 8.25195312e-02 1.69921875e-01 6.59179688e-03 3.41796875e-01\n",
      " 5.19531250e-01 2.33398438e-01 5.00000000e-01 1.77001953e-03\n",
      " 6.64062500e-02 2.77343750e-01 4.21875000e-01 1.52343750e-01\n",
      " 6.54296875e-02 1.36718750e+00 1.53906250e+00 7.65625000e-01\n",
      " 1.39648438e-01 1.00097656e-01 7.62939453e-03 3.55468750e-01\n",
      " 2.67578125e-01 3.92578125e-01 7.86132812e-02 5.03906250e-01\n",
      " 2.44140625e-01 1.01928711e-02 8.39843750e-01 3.39355469e-02\n",
      " 1.42187500e+00 2.37304688e-01 1.39648438e-01 3.75976562e-02\n",
      " 2.65121460e-04 4.53125000e-01 7.26562500e-01 6.67968750e-01\n",
      " 3.53125000e+00 1.36718750e+00 7.66601562e-02 7.17773438e-02\n",
      " 5.62500000e-01 2.73437500e-01 6.15234375e-02 4.25781250e-01\n",
      " 2.66113281e-02 1.19018555e-02 3.10058594e-02 1.95312500e-01\n",
      " 6.28906250e-01 1.28125000e+00 8.90625000e-01 1.04687500e+00\n",
      " 7.18750000e-01 1.31835938e-02 8.30078125e-02 2.71484375e-01\n",
      " 6.60156250e-01 2.57812500e-01 5.11718750e-01 7.08007812e-02\n",
      " 1.60156250e+00 3.78417969e-02 3.69262695e-03 4.12597656e-02\n",
      " 1.97265625e-01 7.32421875e-02 1.29687500e+00 3.88671875e-01\n",
      " 3.66210938e-02 4.12109375e-01 2.44140625e-02 3.33984375e-01\n",
      " 7.30468750e-01 9.52148438e-03 3.51562500e+00 1.41601562e-01\n",
      " 2.27050781e-02 8.59375000e-02 3.45703125e-01 1.63281250e+00\n",
      " 5.24902344e-02 3.39355469e-02 2.96875000e-01 3.43750000e-01\n",
      " 8.35937500e-01 8.43750000e-01 8.63281250e-01 1.48437500e-01\n",
      " 2.32421875e-01 4.58984375e-01 2.51953125e-01 1.36718750e-01\n",
      " 8.91113281e-03 3.84765625e-01 2.16796875e-01 1.17968750e+00\n",
      " 2.85644531e-02 7.95898438e-02 1.29882812e-01 2.53906250e-01\n",
      " 5.35156250e-01 6.54296875e-02 1.92382812e-01 2.61718750e-01\n",
      " 3.71093750e-02 7.47070312e-02 7.34375000e-01 1.20312500e+00\n",
      " 4.82421875e-01 3.61328125e-02 2.29492188e-01 6.64062500e-01\n",
      " 1.09863281e-01 8.43750000e-01 1.29687500e+00 1.93359375e-01\n",
      " 3.41796875e-01 5.07812500e-01 1.54296875e-01 7.92968750e-01\n",
      " 1.50390625e-01 2.50000000e-01 3.80859375e-01 5.19531250e-01\n",
      " 3.10937500e+00 1.76757812e-01 5.90820312e-02 7.53784180e-03\n",
      " 2.08007812e-01 4.39453125e-01 1.06250000e+00 4.31640625e-01\n",
      " 1.17675781e-01 6.21093750e-01 6.28906250e-01 1.45507812e-01\n",
      " 1.00097656e-02 3.63281250e-01 7.32421875e-04 5.07812500e-01\n",
      " 5.62500000e-01 6.56250000e-01 4.66918945e-03 1.47460938e-01\n",
      " 1.62109375e-01 1.16699219e-01 7.42187500e-01 9.45312500e-01\n",
      " 5.66406250e-01 2.69531250e-01 6.75781250e-01 7.38281250e-01\n",
      " 1.22558594e-01 5.43212891e-03 4.00390625e-01 6.29882812e-02\n",
      " 3.30078125e-01 2.24609375e-01 1.85937500e+00 1.14746094e-01\n",
      " 1.93359375e-01 9.66796875e-02 6.75781250e-01 6.68945312e-02\n",
      " 1.64062500e-01 8.83789062e-02 9.61914062e-02 7.32421875e-02\n",
      " 3.84765625e-01 5.62500000e-01 1.46484375e-03 4.55078125e-01\n",
      " 4.29687500e-01 5.42968750e-01 1.33789062e-01 1.25000000e+00\n",
      " 1.96289062e-01 4.58984375e-01 2.37304688e-01 3.88671875e-01\n",
      " 9.33593750e-01 1.04687500e+00 3.00781250e-01 7.42187500e-01\n",
      " 1.21582031e-01 3.02734375e-01 5.85937500e-02 5.50781250e-01\n",
      " 7.56835938e-02 2.83203125e-01 1.38671875e-01 1.18750000e+00\n",
      " 8.49609375e-02 8.01086426e-04 6.83593750e-02 1.49414062e-01\n",
      " 1.12500000e+00 4.16015625e-01 3.28125000e-01 9.29687500e-01\n",
      " 7.46093750e-01 2.17285156e-02 5.76171875e-02 7.71484375e-02\n",
      " 1.80664062e-01 5.70312500e-01 8.78906250e-02 5.66406250e-01\n",
      " 4.68750000e-02 5.58593750e-01 1.40625000e-01 1.13525391e-02\n",
      " 4.88281250e-01 4.85839844e-02 1.13769531e-01 2.85156250e-01\n",
      " 1.37939453e-02 1.31250000e+00 5.19531250e-01 1.58691406e-03\n",
      " 2.50000000e-01 6.64062500e-02 4.06250000e-01 1.65039062e-01\n",
      " 6.48437500e-01 4.16015625e-01 6.71875000e-01 3.95507812e-02\n",
      " 7.46093750e-01 2.08740234e-02 2.73437500e-01 9.57031250e-01\n",
      " 1.62500000e+00 2.67578125e-01 6.64062500e-02 1.22558594e-01\n",
      " 1.54687500e+00 1.79443359e-02 1.36108398e-02 5.59082031e-02\n",
      " 3.17382812e-02 9.32617188e-02 8.63281250e-01 8.12500000e-01\n",
      " 5.11718750e-01 5.15625000e-01 8.98437500e-01 5.42968750e-01\n",
      " 1.17675781e-01 1.12792969e-01 9.14062500e-01 2.02148438e-01\n",
      " 1.04687500e+00 4.04296875e-01 9.47265625e-02 8.49609375e-02\n",
      " 2.94921875e-01 3.02734375e-01 2.73437500e-01 5.68847656e-02\n",
      " 6.21093750e-01 2.53906250e-01 1.22070312e-01 1.24511719e-02\n",
      " 3.28125000e-01 4.66308594e-02 3.75000000e-01 4.30297852e-03\n",
      " 2.48437500e+00 1.36718750e-01 8.49609375e-02 3.49121094e-02\n",
      " 1.25976562e-01 2.00195312e-01 4.78515625e-01 1.35156250e+00\n",
      " 1.17187500e+00 7.26562500e-01 0.00000000e+00 3.02734375e-01\n",
      " 1.30859375e-01 1.39648438e-01 6.83593750e-01 5.15625000e-01\n",
      " 2.51953125e-01 5.15625000e-01 5.07812500e-01 4.88281250e-01\n",
      " 2.47070312e-01 8.98437500e-02 9.32617188e-02 6.88476562e-02\n",
      " 8.00781250e-01 9.27734375e-02 3.41796875e-01 3.57421875e-01\n",
      " 1.64062500e+00 4.37500000e-01 8.16406250e-01 1.03759766e-02\n",
      " 1.42968750e+00 7.57812500e-01 1.48437500e-01 1.10839844e-01\n",
      " 4.47265625e-01 1.45507812e-01 9.37500000e-02 4.54101562e-02\n",
      " 2.05078125e-01 1.99218750e-01 3.20312500e-01 6.09375000e-01\n",
      " 1.95312500e-01 1.18750000e+00 9.53125000e-01 1.50000000e+00\n",
      " 2.41210938e-01 4.19921875e-01 4.73632812e-02 6.99218750e-01\n",
      " 2.58789062e-02 1.25122070e-02 1.51367188e-01 4.86328125e-01\n",
      " 4.88281250e-01 1.89453125e-01 2.34375000e-01 5.03906250e-01\n",
      " 1.01562500e+00 5.78125000e-01 6.05468750e-01 4.22363281e-02\n",
      " 4.11987305e-03 4.84375000e-01 5.23437500e-01 8.74023438e-02\n",
      " 3.46875000e+00 3.14453125e-01 2.55859375e-01 6.03027344e-02\n",
      " 9.22851562e-02 2.08984375e-01 1.60156250e-01 9.14062500e-01\n",
      " 5.42968750e-01 1.59179688e-01 5.50781250e-01 2.17285156e-02\n",
      " 7.66601562e-02 7.30468750e-01 7.57812500e-01 1.74560547e-02\n",
      " 9.47265625e-02 7.18750000e-01 1.05468750e-01 1.30468750e+00\n",
      " 6.09375000e-01 1.14257812e-01 1.42578125e-01 8.15429688e-02\n",
      " 5.74218750e-01 1.78710938e-01 5.27343750e-01 6.87500000e-01\n",
      " 1.56250000e-01 2.79296875e-01 7.91015625e-02 1.16406250e+00\n",
      " 8.98437500e-02 1.07910156e-01 4.93164062e-02 1.21093750e-01\n",
      " 1.23291016e-02 2.13867188e-01 1.61132812e-02 8.59375000e-02\n",
      " 5.03906250e-01 2.18505859e-02 3.26171875e-01 4.85839844e-02\n",
      " 1.95312500e-01 2.47070312e-01 2.67187500e+00 8.12500000e-01\n",
      " 5.93750000e-01 6.36718750e-01 1.92382812e-01 5.11718750e-01\n",
      " 1.53320312e-01 1.47460938e-01 6.75781250e-01 1.25000000e+00\n",
      " 1.34375000e+00 3.86718750e-01 2.67578125e-01 1.94335938e-01\n",
      " 2.75390625e-01 0.00000000e+00 8.12500000e-01 1.68457031e-02\n",
      " 1.57226562e-01 1.59179688e-01 7.53906250e-01 2.98828125e-01\n",
      " 0.00000000e+00 1.88476562e-01 6.75781250e-01 1.97265625e-01\n",
      " 8.28125000e-01 5.27343750e-01 2.89306641e-02 2.92968750e-02\n",
      " 5.98144531e-02 6.05468750e-01 1.35937500e+00 7.89062500e-01\n",
      " 1.41406250e+00 3.28125000e-01 6.17187500e-01 7.27539062e-02\n",
      " 5.93750000e-01 4.12109375e-01 3.43750000e-01 2.28271484e-02\n",
      " 5.70312500e-01 3.41796875e-02 2.20703125e-01 9.13085938e-02\n",
      " 1.90429688e-01 4.62890625e-01 3.92578125e-01 4.70703125e-01\n",
      " 0.00000000e+00 2.32812500e+00 4.62890625e-01 2.83203125e-01\n",
      " 2.51953125e-01 3.35937500e-01 1.02343750e+00 1.04003906e-01\n",
      " 8.12500000e-01 6.64062500e-01 1.06933594e-01 5.31250000e-01]\n"
     ]
    }
   ],
   "source": [
    "import pickle\n",
    "import numpy as np\n",
    "\n",
    "# Load the saved embeddings\n",
    "with open(EMB_OUT_PKL, \"rb\") as f:\n",
    "    data = pickle.load(f)\n",
    "\n",
    "files = data[\"files\"]         # list of image file paths\n",
    "embeddings = data[\"embeddings\"]  # NumPy array of shape (N, 512)\n",
    "\n",
    "print(\"Number of patches:\", len(files))\n",
    "print(\"Embedding shape:\", embeddings.shape)  # (N, 512)\n",
    "\n",
    "# Show first patch and its embedding\n",
    "print(\"First file:\", files[0])\n",
    "print(\"First embedding vector:\", embeddings[0])\n"
   ]
  },
  {
   "cell_type": "code",
   "execution_count": 21,
   "id": "ff73049f",
   "metadata": {},
   "outputs": [
    {
     "data": {
      "image/png": "[encoded data removed]",
      "text/plain": [
       "<Figure size 800x600 with 1 Axes>"
      ]
     },
     "metadata": {},
     "output_type": "display_data"
    }
   ],
   "source": [
    "from sklearn.decomposition import PCA\n",
    "import matplotlib.pyplot as plt\n",
    "\n",
    "# Reduce 512D → 2D with PCA\n",
    "pca = PCA(n_components=2)\n",
    "emb_2d = pca.fit_transform(embeddings)\n",
    "\n",
    "plt.figure(figsize=(8,6))\n",
    "plt.scatter(emb_2d[:,0], emb_2d[:,1], s=5)\n",
    "plt.title(\"Patch Embeddings (PCA to 2D)\")\n",
    "plt.xlabel(\"PC1\")\n",
    "plt.ylabel(\"PC2\")\n",
    "plt.show()\n"
   ]
  },
  {
   "cell_type": "code",
   "execution_count": 22,
   "id": "eb5165d6",
   "metadata": {},
   "outputs": [
    {
     "name": "stdout",
     "output_type": "stream",
     "text": [
      "Reference: ../data/VPC/multiscale_patches_Train/slide001_core003/512/10/0_0.png\n",
      "Most similar patches:\n",
      "../data/VPC/multiscale_patches_Train/slide001_core083/512/10/0_0.png  (sim = 0.9481981 )\n",
      "../data/VPC/multiscale_patches_Train/slide003_core080/512/10/0_0.png  (sim = 0.9462687 )\n",
      "../data/VPC/multiscale_patches_Train/slide006_core130/512/10/0_0.png  (sim = 0.9394051 )\n",
      "../data/VPC/multiscale_patches_Train/slide005_core033/512/10/0_0.png  (sim = 0.93879896 )\n",
      "../data/VPC/multiscale_patches_Train/slide005_core097/512/10/0_0.png  (sim = 0.9386065 )\n"
     ]
    }
   ],
   "source": [
    "import numpy as np\n",
    "\n",
    "S = np.load(\"similarity_cosine.npy\")\n",
    "top_k = 5\n",
    "i = 0  # index of the patch you want to check\n",
    "neighbors = np.argsort(-S[i])[1:top_k+1]  # skip itself\n",
    "print(\"Reference:\", files[i])\n",
    "print(\"Most similar patches:\")\n",
    "for n in neighbors:\n",
    "    print(files[n], \" (sim =\", S[i, n], \")\")\n"
   ]
  },
  {
   "cell_type": "code",
   "execution_count": 23,
   "id": "eb16c481",
   "metadata": {},
   "outputs": [],
   "source": [
    "def save_embeddings_compat(model, imgs_path, embd_dir, embedding_layer, model_name, device):\n",
    "    \"\"\"\n",
    "    imgs_path: list of full image paths (all from one core/mag/size directory)\n",
    "    embd_dir:  base embeddings dir (e.g., '256_VPC_Zurich_embeddings_overlap/' + fold + '/')\n",
    "    embedding_layer: 'avgpool'\n",
    "    model_name: e.g., '256_aug_model'\n",
    "    device: torch.device\n",
    "    \"\"\"\n",
    "    # Build target file exactly like paper:\n",
    "    # embd_dir + '/'.join(imgs_path[0].split('/')[-4:-1]) + '/' + model_name + '_' + embedding_layer + '.pkl'\n",
    "    # (…/core/<size>/<mag>/)\n",
    "    target_dir = os.path.join(embd_dir, *imgs_path[0].split('/')[-4:-1])\n",
    "    os.makedirs(target_dir, exist_ok=True)\n",
    "    target_path = os.path.join(target_dir, f\"{model_name}_{embedding_layer}.pkl\")\n",
    "    if os.path.exists(target_path):\n",
    "        return\n",
    "\n",
    "    # Hook like paper\n",
    "    activation = {}\n",
    "    def hook_fn(_, __, out):\n",
    "        activation[embedding_layer] = out\n",
    "    handle = dict(model.named_modules())[embedding_layer].register_forward_hook(hook_fn)\n",
    "\n",
    "    emb_dict = {}\n",
    "    with torch.no_grad():\n",
    "        for img_path in imgs_path:\n",
    "            if not img_path.endswith('.png'):\n",
    "                continue\n",
    "            img = io.imread(img_path)\n",
    "            if img.ndim == 2:\n",
    "                img = cv.cvtColor(img, cv.COLOR_GRAY2RGB)\n",
    "            if img.shape[2] == 4:\n",
    "                img = img[:, :, :3]\n",
    "            img = cv.resize(img, (256, 256), interpolation=cv.INTER_CUBIC)\n",
    "            tens = transform(img).unsqueeze(0).to(device)\n",
    "            _ = model(tens)  # forward to trigger hook\n",
    "            out = activation[embedding_layer]           # [1,512,1,1] or [1,512]\n",
    "            vec = torch.flatten(out, 1).squeeze(0)      # [512]\n",
    "            emb_dict[os.path.basename(img_path)[:-4]] = vec.detach().cpu().numpy()\n",
    "\n",
    "    handle.remove()\n",
    "    with open(target_path, 'wb') as f:\n",
    "        pickle.dump(emb_dict, f)"
   ]
  },
  {
   "cell_type": "code",
   "execution_count": null,
   "id": "f7ccb77a",
   "metadata": {},
   "outputs": [],
   "source": []
  }
 ],
 "metadata": {
  "kernelspec": {
   "display_name": "Python (3.8.5 msrgcn)",
   "language": "python",
   "name": "msrgcn"
  },
  "language_info": {
   "codemirror_mode": {
    "name": "ipython",
    "version": 3
   },
   "file_extension": ".py",
   "mimetype": "text/x-python",
   "name": "python",
   "nbconvert_exporter": "python",
   "pygments_lexer": "ipython3",
   "version": "3.8.18"
  }
 },
 "nbformat": 4,
 "nbformat_minor": 5
}
